{
 "cells": [
  {
   "cell_type": "code",
   "execution_count": 24,
   "metadata": {},
   "outputs": [],
   "source": [
    "from __future__ import print_function\n",
    "import matplotlib; matplotlib.use('Agg')\n",
    "import os, numpy as np, time, sys, argparse\n",
    "from AB3DMOT_libs.utils import Config, get_subfolder_seq, initialize\n",
    "from AB3DMOT_libs.io import load_detection, get_saving_dir, get_frame_det, save_results, save_affinity\n",
    "from scripts.post_processing.combine_trk_cat import combine_trk_cat\n",
    "from xinshuo_io import mkdir_if_missing, save_txt_file\n",
    "from xinshuo_miscellaneous import get_timestring, print_log"
   ]
  },
  {
   "cell_type": "markdown",
   "metadata": {},
   "source": [
    "##### main_per_cat"
   ]
  },
  {
   "cell_type": "code",
   "execution_count": 25,
   "metadata": {},
   "outputs": [],
   "source": [
    "def main_per_cat(cfg, cat, log, ID_start):\n",
    "\n",
    "\t# get data-cat-split specific path\n",
    "\tresult_sha = '%s_%s_%s' % (cfg.det_name, cat, cfg.split)\n",
    "\tdet_root = os.path.join('./data', cfg.dataset, 'detection', result_sha)\n",
    "\tsubfolder, det_id2str, hw, seq_eval, data_root = get_subfolder_seq(cfg.dataset, cfg.split)\n",
    "\ttrk_root = os.path.join(data_root, 'tracking')\n",
    "\tsave_dir = os.path.join(cfg.save_root, result_sha + '_H%d' % cfg.num_hypo); mkdir_if_missing(save_dir)\n",
    "\n",
    "\t# create eval dir for each hypothesis \n",
    "\teval_dir_dict = dict()\n",
    "\tfor index in range(cfg.num_hypo):\n",
    "\t\teval_dir_dict[index] = os.path.join(save_dir, 'data_%d' % index); mkdir_if_missing(eval_dir_dict[index]) \t\t\n",
    "\n",
    "\t# loop every sequence\n",
    "\tseq_count = 0\n",
    "\ttotal_time, total_frames = 0.0, 0\n",
    "\tfor seq_name in seq_eval:\n",
    "\t\tseq_file = os.path.join(det_root, seq_name+'.txt')\n",
    "\t\tseq_dets, flag = load_detection(seq_file) \t\t\t\t# load detection\n",
    "\t\tif not flag: continue\t\t\t\t\t\t\t\t\t# no detection\n",
    "\n",
    "\t\t# create folders for saving\n",
    "\t\teval_file_dict, save_trk_dir, affinity_dir, affinity_vis = \\\n",
    "\t\t\tget_saving_dir(eval_dir_dict, seq_name, save_dir, cfg.num_hypo)\t\n",
    "\n",
    "\t\t# initialize tracker\n",
    "\t\ttracker, frame_list = initialize(cfg, trk_root, save_dir, subfolder, seq_name, cat, ID_start, hw, log)\n",
    "\n",
    "\t\t# loop over frame\n",
    "\t\tmin_frame, max_frame = int(frame_list[0]), int(frame_list[-1])\n",
    "\t\tfor frame in range(min_frame, max_frame + 1):\n",
    "\t\t\t# add an additional frame here to deal with the case that the last frame, although no detection\n",
    "\t\t\t# but should output an N x 0 affinity for consistency\n",
    "\t\t\t\n",
    "\t\t\t# logging\n",
    "\t\t\tprint_str = 'processing %s %s: %d/%d, %d/%d   \\r' % (result_sha, seq_name, seq_count, \\\n",
    "\t\t\t\tlen(seq_eval), frame, max_frame)\n",
    "\t\t\tsys.stdout.write(print_str)\n",
    "\t\t\tsys.stdout.flush()\n",
    "\n",
    "\t\t\t# tracking by detection\n",
    "\t\t\tdets_frame = get_frame_det(seq_dets, frame)\n",
    "\t\t\tsince = time.time()\n",
    "\t\t\tresults, affi = tracker.track(dets_frame, frame, seq_name)\t\t\n",
    "\t\t\ttotal_time += time.time() - since\n",
    "\n",
    "\t\t\t# saving affinity matrix, between the past frame and current frame\n",
    "\t\t\t# e.g., for 000006.npy, it means affinity between frame 5 and 6\n",
    "\t\t\t# note that the saved value in affinity can be different in reality because it is between the \n",
    "\t\t\t# original detections and ego-motion compensated predicted tracklets, rather than between the \n",
    "\t\t\t# actual two sets of output tracklets\n",
    "\t\t\tsave_affi_file = os.path.join(affinity_dir, '%06d.npy' % frame)\n",
    "\t\t\tsave_affi_vis  = os.path.join(affinity_vis, '%06d.txt' % frame)\n",
    "\t\t\tif (affi is not None) and (affi.shape[0] + affi.shape[1] > 0): \n",
    "\t\t\t\t# save affinity as long as there are tracklets in at least one frame\n",
    "\t\t\t\tnp.save(save_affi_file, affi)\n",
    "\n",
    "\t\t\t\t# cannot save for visualization unless both two frames have tracklets\n",
    "\t\t\t\tif affi.shape[0] > 0 and affi.shape[1] > 0:\n",
    "\t\t\t\t\tsave_affinity(affi, save_affi_vis)\n",
    "\n",
    "\t\t\t# saving trajectories, loop over each hypothesis\n",
    "\t\t\tfor hypo in range(cfg.num_hypo):\n",
    "\t\t\t\tsave_trk_file = os.path.join(save_trk_dir[hypo], '%06d.txt' % frame)\n",
    "\t\t\t\tsave_trk_file = open(save_trk_file, 'w')\n",
    "\t\t\t\tfor result_tmp in results[hypo]:\t\t\t\t# N x 15\n",
    "\t\t\t\t\tsave_results(result_tmp, save_trk_file, eval_file_dict[hypo], \\\n",
    "\t\t\t\t\t\tdet_id2str, frame, cfg.score_threshold)\n",
    "\t\t\t\tsave_trk_file.close()\n",
    "\n",
    "\t\t\ttotal_frames += 1\n",
    "\t\tseq_count += 1\n",
    "\n",
    "\t\tfor index in range(cfg.num_hypo): \n",
    "\t\t\teval_file_dict[index].close()\n",
    "\t\t\tID_start = max(ID_start, tracker.ID_count[index])\n",
    "\n",
    "\tprint_log('%s, %25s: %4.f seconds for %5d frames or %6.1f FPS, metric is %s = %.2f' % \\\n",
    "\t\t(cfg.dataset, result_sha, total_time, total_frames, total_frames / total_time, \\\n",
    "\t\ttracker.metric, tracker.thres), log=log)\n",
    "\t\n",
    "\treturn ID_start\n"
   ]
  },
  {
   "cell_type": "markdown",
   "metadata": {},
   "source": [
    "##### notebook"
   ]
  },
  {
   "cell_type": "code",
   "execution_count": 26,
   "metadata": {},
   "outputs": [],
   "source": [
    "args = {\"dataset\": \"KITTI\", \"split\": \"val\", \"det_name\": \"pointrcnn\"}"
   ]
  },
  {
   "cell_type": "code",
   "execution_count": 27,
   "metadata": {},
   "outputs": [],
   "source": [
    "config_path = './configs/%s.yml' %args['dataset']\n",
    "cfg, settings_show = Config(config_path)"
   ]
  },
  {
   "cell_type": "code",
   "execution_count": 28,
   "metadata": {},
   "outputs": [
    {
     "ename": "AttributeError",
     "evalue": "'EasyDict' object has no attribute 'cat_lis'",
     "output_type": "error",
     "traceback": [
      "\u001b[1;31m---------------------------------------------------------------------------\u001b[0m",
      "\u001b[1;31mAttributeError\u001b[0m                            Traceback (most recent call last)",
      "\u001b[1;32mc:\\Users\\Admin\\Documents\\GitHub\\AB3DMOT\\test_repo.ipynb 셀 7\u001b[0m in \u001b[0;36m<cell line: 1>\u001b[1;34m()\u001b[0m\n\u001b[1;32m----> <a href='vscode-notebook-cell:/c%3A/Users/Admin/Documents/GitHub/AB3DMOT/test_repo.ipynb#ch0000017?line=0'>1</a>\u001b[0m cfg\u001b[39m.\u001b[39;49mcat_lis\n",
      "\u001b[1;31mAttributeError\u001b[0m: 'EasyDict' object has no attribute 'cat_lis'"
     ]
    }
   ],
   "source": [
    "cfg.cat_lis"
   ]
  },
  {
   "cell_type": "code",
   "execution_count": 29,
   "metadata": {},
   "outputs": [],
   "source": [
    "time_str = get_timestring()\n",
    "log = os.path.join(cfg.save_root, 'log/log_%s_%s_%s.txt' % (time_str, cfg.dataset, cfg.split))"
   ]
  },
  {
   "cell_type": "code",
   "execution_count": 30,
   "metadata": {},
   "outputs": [
    {
     "data": {
      "text/plain": [
       "'./results/KITTI\\\\log/log_20220722_13h07m32s_KITTI_val.txt'"
      ]
     },
     "execution_count": 30,
     "metadata": {},
     "output_type": "execute_result"
    }
   ],
   "source": [
    "log"
   ]
  },
  {
   "cell_type": "code",
   "execution_count": 31,
   "metadata": {},
   "outputs": [],
   "source": [
    "subfolder, det_id2str, hw, seq_eval, data_root = get_subfolder_seq(cfg.dataset, cfg.split)"
   ]
  },
  {
   "cell_type": "code",
   "execution_count": 22,
   "metadata": {},
   "outputs": [
    {
     "data": {
      "text/plain": [
       "'KITTI'"
      ]
     },
     "execution_count": 22,
     "metadata": {},
     "output_type": "execute_result"
    }
   ],
   "source": [
    "cfg.dataset"
   ]
  },
  {
   "cell_type": "code",
   "execution_count": 23,
   "metadata": {},
   "outputs": [
    {
     "name": "stdout",
     "output_type": "stream",
     "text": [
      "training \n",
      " {1: 'Pedestrian', 2: 'Car', 3: 'Cyclist'} \n",
      " {'image': (375, 1242), 'lidar': (720, 1920)} \n",
      " ['0001', '0006', '0008', '0010', '0012', '0013', '0014', '0015', '0016', '0018', '0019'] \n",
      " C:/Users/Admin/Documents/GitHub/AB3DMOT/data/KITTI\n"
     ]
    }
   ],
   "source": [
    "print(subfolder, '\\n', det_id2str, '\\n', hw, '\\n', seq_eval, '\\n', data_root)"
   ]
  },
  {
   "cell_type": "code",
   "execution_count": 25,
   "metadata": {},
   "outputs": [
    {
     "name": "stdout",
     "output_type": "stream",
     "text": [
      "# ------------------- General Options -------------------------\n",
      "description                  : AB3DMOT\n",
      "seed                         : 0\n",
      "\n",
      "# --------------- main.py\n",
      "save_root                    : ./results/KITTI\n",
      "dataset                      : KITTI      # KITTI\n",
      "split                        : val        # val, test\n",
      "det_name                     : pointrcnn  # name of the detector [pointrcnn, pvrcnn]\n",
      "cat_list                     : ['Car', 'Pedestrian', 'Cyclist']\n",
      "\n",
      "score_threshold              : -10000     # filter out tracklet with low confidence if necessary, default no filtering here but do it in trk_conf_threshold.py\n",
      "num_hypo                     : 1          # >1 to allow multi-hypothesis tracking\n",
      "\n",
      "# --------------- model.py\n",
      "ego_com                      : true      # turn on only slightly reduce speed but increase a lot for performance\n",
      "vis                          : false       # only for debug or visualization purpose, will significantly reduce speed\n",
      "affi_pro                     : true\n"
     ]
    }
   ],
   "source": [
    "time_str = get_timestring()\n",
    "log = os.path.join(cfg.save_root, 'log/log_%s_%s_%s.txt' % (time_str, cfg.dataset, cfg.split))\n",
    "for idx, data in enumerate(settings_show):\n",
    "    print(data)"
   ]
  },
  {
   "cell_type": "code",
   "execution_count": 2,
   "metadata": {},
   "outputs": [
    {
     "name": "stdout",
     "output_type": "stream",
     "text": [
      "P0: 7.215377000000e+02 0.000000000000e+00 6.095593000000e+02 0.000000000000e+00 0.000000000000e+00 7.215377000000e+02 1.728540000000e+02 0.000000000000e+00 0.000000000000e+00 0.000000000000e+00 1.000000000000e+00 0.000000000000e+00  \n",
      "\n",
      "P1: 7.215377000000e+02 0.000000000000e+00 6.095593000000e+02 -3.875744000000e+02 0.000000000000e+00 7.215377000000e+02 1.728540000000e+02 0.000000000000e+00 0.000000000000e+00 0.000000000000e+00 1.000000000000e+00 0.000000000000e+00  \n",
      "\n",
      "P2: 7.215377000000e+02 0.000000000000e+00 6.095593000000e+02 4.485728000000e+01 0.000000000000e+00 7.215377000000e+02 1.728540000000e+02 2.163791000000e-01 0.000000000000e+00 0.000000000000e+00 1.000000000000e+00 2.745884000000e-03  \n",
      "\n",
      "P3: 7.215377000000e+02 0.000000000000e+00 6.095593000000e+02 -3.395242000000e+02 0.000000000000e+00 7.215377000000e+02 1.728540000000e+02 2.199936000000e+00 0.000000000000e+00 0.000000000000e+00 1.000000000000e+00 2.729905000000e-03  \n",
      "\n",
      "R_rect 9.999239000000e-01 9.837760000000e-03 -7.445048000000e-03 -9.869795000000e-03 9.999421000000e-01 -4.278459000000e-03 7.402527000000e-03 4.351614000000e-03 9.999631000000e-01  \n",
      "\n"
     ]
    },
    {
     "ename": "ValueError",
     "evalue": "not enough values to unpack (expected 2, got 1)",
     "output_type": "error",
     "traceback": [
      "\u001b[1;31m---------------------------------------------------------------------------\u001b[0m",
      "\u001b[1;31mValueError\u001b[0m                                Traceback (most recent call last)",
      "\u001b[1;32mc:\\Users\\Admin\\Documents\\GitHub\\AB3DMOT\\test_repo.ipynb 셀 8\u001b[0m in \u001b[0;36m<cell line: 3>\u001b[1;34m()\u001b[0m\n\u001b[0;32m      <a href='vscode-notebook-cell:/c%3A/Users/Admin/Documents/GitHub/AB3DMOT/test_repo.ipynb#ch0000008?line=5'>6</a>\u001b[0m line \u001b[39m=\u001b[39m line\u001b[39m.\u001b[39mrstrip()\n\u001b[0;32m      <a href='vscode-notebook-cell:/c%3A/Users/Admin/Documents/GitHub/AB3DMOT/test_repo.ipynb#ch0000008?line=6'>7</a>\u001b[0m \u001b[39mif\u001b[39;00m \u001b[39mlen\u001b[39m(line) \u001b[39m==\u001b[39m \u001b[39m0\u001b[39m: \u001b[39mcontinue\u001b[39;00m\n\u001b[1;32m----> <a href='vscode-notebook-cell:/c%3A/Users/Admin/Documents/GitHub/AB3DMOT/test_repo.ipynb#ch0000008?line=7'>8</a>\u001b[0m key, value \u001b[39m=\u001b[39m line\u001b[39m.\u001b[39msplit(\u001b[39m'\u001b[39m\u001b[39m:\u001b[39m\u001b[39m'\u001b[39m,\u001b[39m1\u001b[39m)\n\u001b[0;32m      <a href='vscode-notebook-cell:/c%3A/Users/Admin/Documents/GitHub/AB3DMOT/test_repo.ipynb#ch0000008?line=8'>9</a>\u001b[0m data[key] \u001b[39m=\u001b[39m np\u001b[39m.\u001b[39marray([\u001b[39mfloat\u001b[39m(x) \u001b[39mfor\u001b[39;00m x \u001b[39min\u001b[39;00m value\u001b[39m.\u001b[39msplit()])\n",
      "\u001b[1;31mValueError\u001b[0m: not enough values to unpack (expected 2, got 1)"
     ]
    }
   ],
   "source": [
    "import numpy as np\n",
    "data = {}\n",
    "with open('C:\\\\calib\\\\0000.txt', 'r') as f:\n",
    "    for line in f.readlines():\n",
    "        print(line)\n",
    "        line = line.rstrip()\n",
    "        if len(line) == 0: continue\n",
    "        key, value = line.split(':',1)\n",
    "        data[key] = np.array([float(x) for x in value.split()])\n",
    "        "
   ]
  },
  {
   "cell_type": "code",
   "execution_count": 18,
   "metadata": {},
   "outputs": [
    {
     "name": "stdout",
     "output_type": "stream",
     "text": [
      "Number: 1\n",
      "\n",
      "LidarImageOffset\n",
      "\n",
      "6992\n",
      "\n",
      "Angle : LR, UD, Rot\n",
      "\n",
      "-6.308843,-0.010000,0.000000\n",
      "\n",
      "TranslationMatrix\n",
      "\n",
      "0.020000,-0.020000,-0.030000\n",
      "\n",
      "intrinsicCameraParameter\n",
      "\n",
      "1067.249617,1070.402406,967.123811,600.618148,-0.156654,0.106250,0.000000,0.000000\n",
      "\n",
      "--------------------------------------------------------------------------------\n",
      "\n"
     ]
    }
   ],
   "source": [
    "with open(\"G:\\내 드라이브\\data\\AIhub\\Auto3D\\Training\\seoul1_raw\\drive_621\", 'r') as f:\n",
    "        for line in f.readlines():\n",
    "            print(line)\n",
    "            line = line.rstrip()\n",
    "            if len(line) == 0: continue\n",
    "            key, value = line.split(':',1)\n",
    "            if key != \n",
    "            data[key] = np.array([float(x) for x in value.split()])"
   ]
  },
  {
   "cell_type": "code",
   "execution_count": 25,
   "metadata": {},
   "outputs": [],
   "source": [
    "import numpy as np"
   ]
  },
  {
   "cell_type": "code",
   "execution_count": 35,
   "metadata": {},
   "outputs": [
    {
     "name": "stdout",
     "output_type": "stream",
     "text": [
      "P0: 7.215377000000e+02 0.000000000000e+00 6.095593000000e+02 0.000000000000e+00 0.000000000000e+00 7.215377000000e+02 1.728540000000e+02 0.000000000000e+00 0.000000000000e+00 0.000000000000e+00 1.000000000000e+00 0.000000000000e+00  \n",
      "\n",
      "P1: 7.215377000000e+02 0.000000000000e+00 6.095593000000e+02 -3.875744000000e+02 0.000000000000e+00 7.215377000000e+02 1.728540000000e+02 0.000000000000e+00 0.000000000000e+00 0.000000000000e+00 1.000000000000e+00 0.000000000000e+00  \n",
      "\n",
      "P2: 7.215377000000e+02 0.000000000000e+00 6.095593000000e+02 4.485728000000e+01 0.000000000000e+00 7.215377000000e+02 1.728540000000e+02 2.163791000000e-01 0.000000000000e+00 0.000000000000e+00 1.000000000000e+00 2.745884000000e-03  \n",
      "\n",
      "P3: 7.215377000000e+02 0.000000000000e+00 6.095593000000e+02 -3.395242000000e+02 0.000000000000e+00 7.215377000000e+02 1.728540000000e+02 2.199936000000e+00 0.000000000000e+00 0.000000000000e+00 1.000000000000e+00 2.729905000000e-03  \n",
      "\n",
      "R0_rect: 9.999239000000e-01 9.837760000000e-03 -7.445048000000e-03 -9.869795000000e-03 9.999421000000e-01 -4.278459000000e-03 7.402527000000e-03 4.351614000000e-03 9.999631000000e-01  \n",
      "\n",
      "Tr_velo_to_cam: 7.533745000000e-03 -9.999714000000e-01 -6.166020000000e-04 -4.069766000000e-03 1.480249000000e-02 7.280733000000e-04 -9.998902000000e-01 -7.631618000000e-02 9.998621000000e-01 7.523790000000e-03 1.480755000000e-02 -2.717806000000e-01  \n",
      "\n",
      "Tr_imu_to_velo: 9.999976000000e-01 7.553071000000e-04 -2.035826000000e-03 -8.086759000000e-01 -7.854027000000e-04 9.998898000000e-01 -1.482298000000e-02 3.195559000000e-01 2.024406000000e-03 1.482454000000e-02 9.998881000000e-01 -7.997231000000e-01  \n",
      "\n"
     ]
    }
   ],
   "source": [
    "# open kitti calib file\n",
    "\n",
    "calibs = {}\n",
    "with open(\"data/KITTI/mini/training/calib/0000.txt\", 'r') as f:\n",
    "    for line in f.readlines():\n",
    "        print(line)\n",
    "        line = line.rstrip()\n",
    "        if len(line) == 0: continue\n",
    "        key, value = line.split(':',1)\n",
    "        calibs[key] = np.array([float(x) for x in value.split()])"
   ]
  },
  {
   "cell_type": "code",
   "execution_count": 34,
   "metadata": {},
   "outputs": [
    {
     "data": {
      "text/plain": [
       "array([7.215377e+02, 0.000000e+00, 6.095593e+02, 4.485728e+01,\n",
       "       0.000000e+00, 7.215377e+02, 1.728540e+02, 2.163791e-01,\n",
       "       0.000000e+00, 0.000000e+00, 1.000000e+00, 2.745884e-03])"
      ]
     },
     "execution_count": 34,
     "metadata": {},
     "output_type": "execute_result"
    }
   ],
   "source": [
    "P = calibs['P2']\n",
    "P = np.reshape(P, (3,4))\n",
    "\n",
    "V2"
   ]
  },
  {
   "cell_type": "code",
   "execution_count": null,
   "metadata": {},
   "outputs": [],
   "source": [
    "P = "
   ]
  }
 ],
 "metadata": {
  "kernelspec": {
   "display_name": "Python 3.9.12 ('dim3')",
   "language": "python",
   "name": "python3"
  },
  "language_info": {
   "codemirror_mode": {
    "name": "ipython",
    "version": 3
   },
   "file_extension": ".py",
   "mimetype": "text/x-python",
   "name": "python",
   "nbconvert_exporter": "python",
   "pygments_lexer": "ipython3",
   "version": "3.9.12"
  },
  "orig_nbformat": 4,
  "vscode": {
   "interpreter": {
    "hash": "0f990a0f9e92c3466ef8e09fc5a47754c0b6ae5b11887691ed935070a3086b2a"
   }
  }
 },
 "nbformat": 4,
 "nbformat_minor": 2
}
